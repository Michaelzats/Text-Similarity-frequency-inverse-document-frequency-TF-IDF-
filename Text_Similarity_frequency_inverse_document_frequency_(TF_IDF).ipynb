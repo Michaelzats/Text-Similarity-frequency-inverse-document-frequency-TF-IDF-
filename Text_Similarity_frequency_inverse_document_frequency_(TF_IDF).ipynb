{
  "nbformat": 4,
  "nbformat_minor": 0,
  "metadata": {
    "colab": {
      "provenance": [],
      "authorship_tag": "ABX9TyNdgK6+buwH1fwzau4iq+uW",
      "include_colab_link": true
    },
    "kernelspec": {
      "name": "python3",
      "display_name": "Python 3"
    },
    "language_info": {
      "name": "python"
    }
  },
  "cells": [
    {
      "cell_type": "markdown",
      "metadata": {
        "id": "view-in-github",
        "colab_type": "text"
      },
      "source": [
        "<a href=\"https://colab.research.google.com/github/Michaelzats/Text-Similarity-frequency-inverse-document-frequency-TF-IDF-/blob/main/Text_Similarity_frequency_inverse_document_frequency_(TF_IDF).ipynb\" target=\"_parent\"><img src=\"https://colab.research.google.com/assets/colab-badge.svg\" alt=\"Open In Colab\"/></a>"
      ]
    },
    {
      "cell_type": "code",
      "execution_count": null,
      "metadata": {
        "id": "KciqryoORhKZ"
      },
      "outputs": [],
      "source": [
        "from sklearn.feature_extraction.text import TfidfVectorizer\n",
        "\n",
        "# Define the texts to compare\n",
        "text_1 = \"This is a sentence about cats.\"\n",
        "text_2 = \"This is a sentence about dogs.\"\n",
        "text_3 = \"This is a sentence about cats and dogs.\"\n",
        "\n",
        "# Create a list of the texts to vectorize\n",
        "texts = [text_1, text_2, text_3]\n",
        "\n",
        "# Create the vectorizer\n",
        "vectorizer = TfidfVectorizer()\n",
        "\n",
        "# Vectorize the texts\n",
        "vectors = vectorizer.fit_transform(texts)\n",
        "\n",
        "# Get the vocabulary\n",
        "vocab = vectorizer.vocabulary_\n",
        "\n",
        "# Print the vocabulary\n",
        "print(vocab)\n"
      ]
    },
    {
      "cell_type": "code",
      "source": [
        "from sklearn.metrics.pairwise import cosine_similarity\n",
        "\n",
        "# Compute the cosine similarity between text_1 and text_2\n",
        "similarity = cosine_similarity(vectors[0], vectors[1])\n",
        "\n",
        "# Print the similarity\n",
        "print(similarity)\n"
      ],
      "metadata": {
        "id": "dKegcMPVRitn"
      },
      "execution_count": null,
      "outputs": []
    }
  ]
}